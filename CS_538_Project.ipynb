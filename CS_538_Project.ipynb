{
 "cells": [
  {
   "attachments": {},
   "cell_type": "markdown",
   "metadata": {},
   "source": [
    "\n",
    "Set up the model/mathematical program and specify the algorithms that you want to try to solve the problems.\n",
    "You can work in groups of two. I want at least 2 groups for each of the problems below.\n",
    "\n",
    "The student-course Assignment problem:\n",
    "**- Input:** \n",
    "\n",
    "PARTIAL: Students and their course preferences\n",
    "TOTAL: Student preferences for each course (all the possible courses)\n",
    "\n",
    "**- Output:** \n",
    "\n",
    "Student assignment \n",
    "\n",
    "a) to optimize the total satisfaction \n",
    "b) maximize the minimum satisfaction.\n",
    "\n",
    "ADDITIONAL PROBLEM: (most liked b courses)"
   ]
  },
  {
   "attachments": {},
   "cell_type": "markdown",
   "metadata": {},
   "source": [
    "IN THE DATASETS, THERE WILL BE MORE COURSES THAN STUDENTS IN ORDER TO AVOID ANY STUDENT NOT GETTING ANY COURSE. "
   ]
  },
  {
   "attachments": {},
   "cell_type": "markdown",
   "metadata": {},
   "source": [
    "For the case in which the maximuum student assigment for each courses is 1, the Hungarian method will be used."
   ]
  },
  {
   "attachments": {},
   "cell_type": "markdown",
   "metadata": {},
   "source": [
    "### Hungarian algorithm\n",
    "Using SciPy library, which includes the linear_sum_assignment function for the Hungarian method implementation"
   ]
  },
  {
   "attachments": {},
   "cell_type": "markdown",
   "metadata": {},
   "source": [
    "CHOSEN ALGORITHM, OR ALGORITHMS  \n",
    "COMPLEXITY  \n",
    "CORRECTNESS"
   ]
  },
  {
   "attachments": {},
   "cell_type": "markdown",
   "metadata": {},
   "source": [
    "Function of complexity with adjusted values... 10, 20, 60, 100 datasets\n",
    "Plot the complexity in a graph with different data sizes"
   ]
  },
  {
   "attachments": {},
   "cell_type": "markdown",
   "metadata": {},
   "source": [
    "Hungarian method when the maximum number of students per course is b."
   ]
  },
  {
   "attachments": {},
   "cell_type": "markdown",
   "metadata": {},
   "source": [
    "Hungarian method"
   ]
  },
  {
   "cell_type": "code",
   "execution_count": 10,
   "metadata": {},
   "outputs": [
    {
     "name": "stdout",
     "output_type": "stream",
     "text": [
      "10_rows dataset\n",
      "Optimal Assignment and Individual Satisfaction:\n",
      "\n",
      "\n",
      "Student 1 is assigned to course A with satisfaction 85\n",
      "Student 2 is assigned to course F with satisfaction 95\n",
      "Student 3 is assigned to course I with satisfaction 80\n",
      "\n",
      "Total satisfaction: 260\n",
      "Number of students: 3\n",
      "Average satisfaction per student: 86.66666666666667\n",
      "\n",
      "--------------------------------------------------\n",
      "\n",
      "20_rows dataset\n",
      "Optimal Assignment and Individual Satisfaction:\n",
      "\n",
      "\n",
      "Student 1 is assigned to course A with satisfaction 85\n",
      "Student 2 is assigned to course F with satisfaction 95\n",
      "Student 3 is assigned to course J with satisfaction 80\n",
      "Student 4 is assigned to course B with satisfaction 70\n",
      "Student 5 is assigned to course G with satisfaction 75\n",
      "Student 6 is assigned to course I with satisfaction 90\n",
      "\n",
      "Total satisfaction: 495\n",
      "Number of students: 6\n",
      "Average satisfaction per student: 82.5\n",
      "\n",
      "--------------------------------------------------\n",
      "\n",
      "50_rows dataset\n",
      "Optimal Assignment and Individual Satisfaction:\n",
      "\n",
      "\n",
      "Student 1 is assigned to course E with satisfaction 80\n",
      "Student 2 is assigned to course J with satisfaction 90\n",
      "Student 3 is assigned to course C with satisfaction 85\n",
      "Student 4 is assigned to course F with satisfaction 65\n",
      "Student 5 is assigned to course B with satisfaction 85\n",
      "Student 6 is assigned to course I with satisfaction 85\n",
      "Student 7 is assigned to course D with satisfaction 95\n",
      "Student 8 is assigned to course H with satisfaction 90\n",
      "Student 9 is assigned to course A with satisfaction 95\n",
      "Student 10 is assigned to course G with satisfaction 90\n",
      "\n",
      "Total satisfaction: 860\n",
      "Number of students: 10\n",
      "Average satisfaction per student: 86.0\n",
      "\n",
      "--------------------------------------------------\n",
      "\n",
      "100_rows dataset\n",
      "Optimal Assignment and Individual Satisfaction:\n",
      "\n",
      "\n",
      "Student 1 is assigned to course J with satisfaction 95\n",
      "Student 2 is assigned to course B with satisfaction 95\n",
      "Student 3 is assigned to course F with satisfaction 95\n",
      "Student 4 is assigned to course H with satisfaction 90\n",
      "Student 5 is assigned to course G with satisfaction 95\n",
      "Student 6 is assigned to course I with satisfaction 95\n",
      "Student 7 is assigned to course D with satisfaction 95\n",
      "Student 8 is assigned to course E with satisfaction 85\n",
      "Student 9 is assigned to course A with satisfaction 95\n",
      "Student 10 is assigned to course C with satisfaction 95\n",
      "\n",
      "Total satisfaction: 935\n",
      "Number of students: 10\n",
      "Average satisfaction per student: 93.5\n",
      "\n",
      "--------------------------------------------------\n",
      "\n"
     ]
    }
   ],
   "source": [
    "import numpy as np\n",
    "import pandas as pd\n",
    "from scipy.optimize import linear_sum_assignment\n",
    "\n",
    "# defining the paths\n",
    "path_10 = 'https://raw.githubusercontent.com/ferriitoo/csv/main/student_preferences_10.txt'\n",
    "path_20 = 'https://raw.githubusercontent.com/ferriitoo/csv/main/student_preferences_20.txt'\n",
    "path_50 = 'https://raw.githubusercontent.com/ferriitoo/csv/main/student_preferences_50.txt'\n",
    "path_100 = 'https://raw.githubusercontent.com/ferriitoo/csv/main/student_preferences_100.txt'\n",
    "\n",
    "datasets = {\n",
    "    '10_rows': path_10,\n",
    "    '20_rows': path_20,\n",
    "    '50_rows': path_50,\n",
    "    '100_rows': path_100,\n",
    "}\n",
    "\n",
    "for name, path in datasets.items():\n",
    "    # Read input data\n",
    "    data = pd.read_csv(path)\n",
    "\n",
    "    # Process data to create a matrix of students, courses, and satisfaction scores\n",
    "    student_ids = data[\"student_id\"].unique()\n",
    "    course_ids = data[\"course_id\"].unique()\n",
    "\n",
    "    preference_matrix = np.full((len(student_ids), len(course_ids)), -1)\n",
    "\n",
    "    for _, row in data.iterrows():\n",
    "        student_index = np.where(student_ids == row[\"student_id\"])[0][0]\n",
    "        course_index = np.where(course_ids == row[\"course_id\"])[0][0]\n",
    "        preference_matrix[student_index, course_index] = row[\"satisfaction_score\"]\n",
    "\n",
    "    # Convert the satisfaction scores to costs by negating them\n",
    "    cost_matrix = -preference_matrix\n",
    "\n",
    "    # Use linear_sum_assignment from SciPy to find the optimal assignment\n",
    "    student_indices, course_indices = linear_sum_assignment(cost_matrix)\n",
    "\n",
    "    # Print the optimal assignment, individual satisfaction, and total satisfaction\n",
    "    total_satisfaction = 0\n",
    "    num_students = len(student_ids)\n",
    "    print(f'{name} dataset')\n",
    "    print(\"Optimal Assignment and Individual Satisfaction:\")\n",
    "    print('\\n')\n",
    "\n",
    "    for student_index, course_index in zip(student_indices, course_indices):\n",
    "        satisfaction = preference_matrix[student_index, course_index]\n",
    "        total_satisfaction += satisfaction\n",
    "        print(f\"Student {student_ids[student_index]} is assigned to course {course_ids[course_index]} with satisfaction {satisfaction}\")\n",
    "\n",
    "    average_satisfaction = total_satisfaction / num_students\n",
    "    print(f\"\\nTotal satisfaction: {total_satisfaction}\")\n",
    "    print(f\"Number of students: {num_students}\")\n",
    "    print(f\"Average satisfaction per student: {average_satisfaction}\")\n",
    "    print('\\n' + '-' * 50 + '\\n')\n"
   ]
  },
  {
   "attachments": {},
   "cell_type": "markdown",
   "metadata": {},
   "source": [
    "sanjiv dice que anadir graficos de complejidad... yo tambien quiero anadir graficos de satisfaccion de los 10 alumnos"
   ]
  },
  {
   "attachments": {},
   "cell_type": "markdown",
   "metadata": {},
   "source": [
    "MIN COST MAX FLOW PROBLEM -- NetworkX library to solve it"
   ]
  }
 ],
 "metadata": {
  "kernelspec": {
   "display_name": "Python 3",
   "language": "python",
   "name": "python3"
  },
  "language_info": {
   "codemirror_mode": {
    "name": "ipython",
    "version": 3
   },
   "file_extension": ".py",
   "mimetype": "text/x-python",
   "name": "python",
   "nbconvert_exporter": "python",
   "pygments_lexer": "ipython3",
   "version": "3.11.3"
  },
  "orig_nbformat": 4
 },
 "nbformat": 4,
 "nbformat_minor": 2
}
