{
 "cells": [
  {
   "attachments": {},
   "cell_type": "markdown",
   "metadata": {},
   "source": [
    "\n",
    "Set up the model/mathematical program and specify the algorithms that you want to try to solve the problems.\n",
    "You can work in groups of two. I want at least 2 groups for each of the problems below.\n",
    "\n",
    "The student-course Assignment problem:\n",
    "**- Input:** \n",
    "\n",
    "PARTIAL: Students and their course preferences\n",
    "TOTAL: Student preferences for each course (all the possible courses)\n",
    "\n",
    "**- Output:** \n",
    "\n",
    "Student assignment \n",
    "\n",
    "a) to optimize the total satisfaction \n",
    "b) maximize the minimum satisfaction.\n",
    "\n",
    "ADDITIONAL PROBLEM: (most liked b courses)"
   ]
  },
  {
   "attachments": {},
   "cell_type": "markdown",
   "metadata": {},
   "source": [
    "### Hungarian algorithm\n",
    "Using SciPy library, which includes the linear_sum_assignment function for the Hungarian method implementation"
   ]
  },
  {
   "cell_type": "code",
   "execution_count": 14,
   "metadata": {},
   "outputs": [
    {
     "name": "stdout",
     "output_type": "stream",
     "text": [
      "Optimal Assignment and Individual Satisfaction:\n",
      "/n\n",
      "Student 1 is assigned to course J with satisfaction 95\n",
      "Student 2 is assigned to course B with satisfaction 95\n",
      "Student 3 is assigned to course F with satisfaction 95\n",
      "Student 4 is assigned to course H with satisfaction 90\n",
      "Student 5 is assigned to course G with satisfaction 95\n",
      "Student 6 is assigned to course I with satisfaction 95\n",
      "Student 7 is assigned to course D with satisfaction 95\n",
      "Student 8 is assigned to course E with satisfaction 85\n",
      "Student 9 is assigned to course A with satisfaction 95\n",
      "Student 10 is assigned to course C with satisfaction 95\n",
      "\n",
      "Total satisfaction: 935\n"
     ]
    }
   ],
   "source": [
    "import numpy as np\n",
    "import pandas as pd\n",
    "from scipy.optimize import linear_sum_assignment\n",
    "\n",
    "# Read input data\n",
    "data = pd.read_csv(\"student_preferences.txt\")\n",
    "\n",
    "# Process data to create a matrix of students, courses, and satisfaction scores\n",
    "student_ids = data[\"student_id\"].unique()\n",
    "course_ids = data[\"course_id\"].unique()\n",
    "\n",
    "preference_matrix = np.full((len(student_ids), len(course_ids)), -1)\n",
    "\n",
    "for _, row in data.iterrows():\n",
    "    student_index = np.where(student_ids == row[\"student_id\"])[0][0]\n",
    "    course_index = np.where(course_ids == row[\"course_id\"])[0][0]\n",
    "    preference_matrix[student_index, course_index] = row[\"satisfaction_score\"]\n",
    "\n",
    "# Convert the satisfaction scores to costs by negating them\n",
    "cost_matrix = -preference_matrix\n",
    "\n",
    "# Use linear_sum_assignment from SciPy to find the optimal assignment\n",
    "student_indices, course_indices = linear_sum_assignment(cost_matrix)\n",
    "\n",
    "# Print the optimal assignment, individual satisfaction, and total satisfaction\n",
    "total_satisfaction = 0\n",
    "print(\"Optimal Assignment and Individual Satisfaction:\")\n",
    "print('/n')\n",
    "\n",
    "for student_index, course_index in zip(student_indices, course_indices):\n",
    "    satisfaction = preference_matrix[student_index, course_index]\n",
    "    total_satisfaction += satisfaction\n",
    "    print(f\"Student {student_ids[student_index]} is assigned to course {course_ids[course_index]} with satisfaction {satisfaction}\")\n",
    "\n",
    "print(f\"\\nTotal satisfaction: {total_satisfaction}\")\n"
   ]
  }
 ],
 "metadata": {
  "kernelspec": {
   "display_name": "Python 3",
   "language": "python",
   "name": "python3"
  },
  "language_info": {
   "codemirror_mode": {
    "name": "ipython",
    "version": 3
   },
   "file_extension": ".py",
   "mimetype": "text/x-python",
   "name": "python",
   "nbconvert_exporter": "python",
   "pygments_lexer": "ipython3",
   "version": "3.11.3"
  },
  "orig_nbformat": 4
 },
 "nbformat": 4,
 "nbformat_minor": 2
}
