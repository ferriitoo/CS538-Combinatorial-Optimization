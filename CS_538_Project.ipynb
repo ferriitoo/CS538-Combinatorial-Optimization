{
 "cells": [
  {
   "cell_type": "code",
   "execution_count": 4,
   "metadata": {},
   "outputs": [],
   "source": [
    "import pandas as pd"
   ]
  },
  {
   "cell_type": "code",
   "execution_count": 5,
   "metadata": {},
   "outputs": [],
   "source": [
    "students_per_course = 30\n",
    "\n",
    "class Student():\n",
    "    def __init__(self, student_id, preferences):\n",
    "        self.id = student_id\n",
    "        self.preferences = preferences\n",
    "    \n",
    "    attending = []\n",
    "\n",
    "class Course():\n",
    "    def __init__(self, course_id):\n",
    "        self.id = course_id\n",
    "        \n",
    "    max_students = students_per_course"
   ]
  },
  {
   "cell_type": "code",
   "execution_count": 6,
   "metadata": {},
   "outputs": [
    {
     "name": "stdout",
     "output_type": "stream",
     "text": [
      "A20512110\n",
      "[0, 1, 5]\n",
      "[]\n",
      "CS538\n",
      "30\n"
     ]
    }
   ],
   "source": [
    "Julen = Student('A20512110', [0, 1, 5])\n",
    "\n",
    "print(Julen.id)\n",
    "print(Julen.preferences)\n",
    "print(Julen.attending)\n",
    "\n",
    "Machine_Learning = Course('CS538')\n",
    "\n",
    "print(Machine_Learning.id)\n",
    "print(Machine_Learning.max_students)"
   ]
  }
 ],
 "metadata": {
  "kernelspec": {
   "display_name": "Python 3",
   "language": "python",
   "name": "python3"
  },
  "language_info": {
   "codemirror_mode": {
    "name": "ipython",
    "version": 3
   },
   "file_extension": ".py",
   "mimetype": "text/x-python",
   "name": "python",
   "nbconvert_exporter": "python",
   "pygments_lexer": "ipython3",
   "version": "3.7.8"
  },
  "orig_nbformat": 4
 },
 "nbformat": 4,
 "nbformat_minor": 2
}
