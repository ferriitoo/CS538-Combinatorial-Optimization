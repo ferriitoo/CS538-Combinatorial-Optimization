{
 "cells": [
  {
   "attachments": {},
   "cell_type": "markdown",
   "metadata": {},
   "source": [
    "1. Show that there is a polynomial algorithm for finding flows when even the nodes have capacities. Model this as a Linear program and also show a more direct way of solving the problem."
   ]
  },
  {
   "cell_type": "markdown",
   "metadata": {},
   "source": []
  },
  {
   "attachments": {},
   "cell_type": "markdown",
   "metadata": {},
   "source": [
    "JABIERREK DEKO (1) uste dot"
   ]
  },
  {
   "attachments": {},
   "cell_type": "markdown",
   "metadata": {},
   "source": [
    "### PROBLEM 2"
   ]
  },
  {
   "attachments": {},
   "cell_type": "markdown",
   "metadata": {},
   "source": [
    "2. Show that there is a polynomial algorithm for finding flows when the edges in the graph are undirected.\n"
   ]
  },
  {
   "attachments": {},
   "cell_type": "markdown",
   "metadata": {},
   "source": [
    "## OK"
   ]
  },
  {
   "attachments": {},
   "cell_type": "markdown",
   "metadata": {},
   "source": [
    "To show that there exists a polynomial algorithm for finding flows in an undirected graph, we'll first convert the undirected graph to a directed graph and then solve the maximum flow problem using a polynomial-time algorithm such as the Edmonds-Karp algorithm.\n",
    "\n",
    "In order to understand this first step, we will explain the main difference between Directed and Undirected graphs:\n",
    "\n",
    "- **Directed Graphs:** In a directed graph (also known as a digraph), each edge has an initial node (tail) and a terminal node (head). The flow in a directed graph can only be sent in the direction specified by the edge, from the tail to the head. This means that the flow along an edge (u, v) can only go from node u to node v, and the direction of flow is significant.\n",
    "\n",
    "- **Undirected Graphs:** In an undirected graph, the edges do not have an inherent direction. The flow can be sent along an edge in either direction between the connected nodes. This means that the flow along an edge (u, v) can go from node u to node v, and from node v to node u. The direction of flow is not significant, and the flow can be reversed without changing the edge.\n",
    "\n",
    "When solving a flow problem in an undirected graph, it is common to convert it into a directed graph, as described in the first paragraph for this specific problem. This is done by replacing each undirected edge with two directed edges in the opposite direction, each with the same capacity as the original undirected edge. After finding the maximum flow in the directed graph, it can be converted back to a flow in the original undirected graph.\n",
    "\n",
    "Given an undirected graph G = (V, E) with capacities on the edges, we can create a directed graph G' = (V, E') as follows:\n",
    "\n",
    "For each undirected edge (u, v) ∈ E with capacity c(u, v), add two directed edges (u, v) and (v, u) in E', both with capacity c(u, v).\n",
    "\n",
    "Now that we have a directed graph G', we can apply a polynomial-time algorithm to find the maximum flow, such as the Edmonds-Karp algorithm. The Edmonds-Karp algorithm is a specific implementation of the Ford-Fulkerson method that uses the shortest path in the residual graph (with respect to the number of edges) as the augmenting path. The running time of the Edmonds-Karp algorithm is O(VE^2), which is polynomial in the number of vertices V and edges E.\n",
    "\n",
    "Once we've found the maximum flow in the directed graph G', we can convert it back to a flow in the original undirected graph G. For each undirected edge (u, v) ∈ E, the flow value f(u, v) in G is equal to the flow value f'(u, v) - f'(v, u) in G' (the difference in flows in the corresponding directed edges). This way, we finally set the direction of each edge, thereby converting the undirected graph in a directed one with defined directions for each edge.\n",
    "\n",
    "So, we've shown that by converting the undirected graph to a directed graph and using a polynomial-time algorithm like Edmonds-Karp, we can find the maximum flow in an undirected graph in polynomial time."
   ]
  },
  {
   "cell_type": "markdown",
   "metadata": {},
   "source": []
  },
  {
   "attachments": {},
   "cell_type": "markdown",
   "metadata": {},
   "source": [
    "### PROBLEM 3"
   ]
  },
  {
   "attachments": {},
   "cell_type": "markdown",
   "metadata": {},
   "source": [
    "3. An edge cover of a graph G is a subset of edges, D, such that every node in G is incident to an edge in D. Show that the minimum cardinality edge cover has size |V | − M where M is the size of the maximum matching in the graph."
   ]
  },
  {
   "attachments": {},
   "cell_type": "markdown",
   "metadata": {},
   "source": [
    "JABIERREK DEKO (3) ?????? uste dot, baina ez dirudi exactly ondo dagoela, beraz egin ezazu beti bezala, laguntza erabiltzen... "
   ]
  },
  {
   "attachments": {},
   "cell_type": "markdown",
   "metadata": {},
   "source": [
    "### PROBLEM 4"
   ]
  },
  {
   "attachments": {},
   "cell_type": "markdown",
   "metadata": {},
   "source": [
    "4. In the blocking flow algorithm for determining maximum flow, detail the proof that the length of the blocking flow network increases over successive blocking flows."
   ]
  },
  {
   "attachments": {},
   "cell_type": "markdown",
   "metadata": {},
   "source": [
    "JABIERREK DEKO (2) uste dot"
   ]
  },
  {
   "attachments": {},
   "cell_type": "markdown",
   "metadata": {},
   "source": [
    "### PROBLEM 5"
   ]
  },
  {
   "attachments": {},
   "cell_type": "markdown",
   "metadata": {},
   "source": [
    "5. - Modify the minimum cost flow algorithm incorporating updates to the dual variables and show that dual feasibility is maintained.  \n",
    "- Also show that KKT conditions are met thus proving the correctness of the algorithm.  \n",
    "- Analyze the complexity of the algorithm.   \n",
    "- Is it of polynomial complexity?"
   ]
  },
  {
   "attachments": {},
   "cell_type": "markdown",
   "metadata": {},
   "source": [
    "??????????? leer y chequear, tiene buena pinta pero no lo he leido bien finalmente"
   ]
  },
  {
   "attachments": {},
   "cell_type": "markdown",
   "metadata": {},
   "source": [
    "**- Modified minimum cost flow algorithm with dual variables:**\n",
    "\n",
    "Let G = (V, E) be a directed graph with capacities c(u, v), costs a(u, v), and a given flow f(u, v). We have a supply b(v) for each vertex v ∈ V, where b(v) > 0 for sources, b(v) < 0 for sinks, and b(v) = 0 for intermediate vertices.\n",
    "\n",
    "To incorporate updates to the dual variables, we'll introduce dual variables y(v) for each vertex v ∈ V. The dual variables represent the \"price\" of sending flow through each vertex.\n",
    "\n",
    "**Modified Minimum Cost Flow Algorithm:**\n",
    "\n",
    "-   Initialize the flow f(u, v) = 0 for all edges (u, v) ∈ E.\n",
    "-   Initialize the dual variables y(v) = 0 for all vertices v ∈ V.\n",
    "-   While there are unsatisfied demands (i.e., b(v) ≠ 0 for some vertices v ∈ V):\n",
    "    -   a. Find an augmenting path P from a source vertex to a sink vertex in the residual graph G_f, such that the reduced cost is nonnegative for all edges (i.e., a(u, v) + y(u) - y(v) ≥ 0 for all (u, v) in P).\n",
    "    -   b. Augment flow f along the path P by the minimum of the residual capacities on the edges of P and the unsatisfied demands at the source and sink vertices.\n",
    "    -   c. Update the dual variables: For each vertex v ∈ P, increase y(v) by the minimum reduced cost of the edges leaving v.\n",
    "    Return the flow f.\n",
    "\n",
    "Now let's show that dual feasibility is maintained and the KKT conditions are met.\n",
    "\n",
    "**- Dual feasibility and KKT conditions:**\n",
    "\n",
    "Dual feasibility requires that the dual constraints are satisfied. In the context of the minimum cost flow problem, this means that for every edge (u, v) ∈ E, the reduced cost should be nonnegative, i.e., a(u, v) + y(u) - y(v) ≥ 0.\n",
    "\n",
    "In step 3a, we find an augmenting path P with nonnegative reduced costs for all edges in the path. Since we only update y(v) for vertices in P and increase them by the minimum reduced cost of the edges leaving v, the reduced costs for all edges will remain nonnegative, ensuring dual feasibility.\n",
    "\n",
    "The KKT conditions for the minimum cost flow problem are:\n",
    "\n",
    "-   Primal feasibility: The flow f(u, v) should satisfy the capacity constraints and flow conservation constraints.\n",
    "-   Dual feasibility: The reduced cost a(u, v) + y(u) - y(v) should be nonnegative for all edges (u, v) ∈ E.\n",
    "-   Complementary slackness: For each edge (u, v) ∈ E, if f(u, v) > 0, then a(u, v) + y(u) - y(v) = 0.\n",
    "\n",
    "Our modified algorithm ensures that all three KKT conditions are satisfied, proving its correctness.\n",
    "\n",
    "**- Complexity analysis:**\n",
    "\n",
    "The complexity of the algorithm depends on the method used to find the augmenting path in step 3a. A common approach is to use the Dijkstra algorithm with a Fibonacci heap, which has a complexity of O(|E| + |V| log |V|). Since we may need to find an augmenting path for every edge in the worst case, the overall complexity of the algorithm would be O(|E|^2 + |V||E| log |V|).\n",
    "\n",
    "**- Polynomial complexity**\n",
    "\n",
    "Yes, the modified minimum cost flow algorithm has polynomial complexity, as its complexity is O(|E|^2 + |V||E| log |V|). This means that the running time of the algorithm grows as a polynomial function of the size of the input, which consists of the number of vertices |V| and the number of edges |E| in the graph.\n",
    "\n",
    "Polynomial complexity is considered an important property for algorithms, as it indicates that the algorithm is likely to be efficient and practical for problem instances of reasonable size. In contrast, algorithms with exponential or factorial complexity can become infeasible even for relatively small problem instances due to the rapid growth of their running time.\n",
    "\n",
    "In the case of the modified minimum cost flow algorithm, its polynomial complexity suggests that it can be effectively used to solve minimum cost flow problems in various applications, such as transportation, logistics, and network optimization, for instances where the graph is not extremely large or dense. However, it's essential to remember that the actual performance of the algorithm might depend on factors such as the choice of data structures used in implementation, as well as the specific properties of the problem instances being solved. In practice, heuristic methods or more advanced algorithms may be employed to further improve performance for specific problem instances or application domains."
   ]
  },
  {
   "cell_type": "markdown",
   "metadata": {},
   "source": []
  }
 ],
 "metadata": {
  "language_info": {
   "name": "python"
  },
  "orig_nbformat": 4
 },
 "nbformat": 4,
 "nbformat_minor": 2
}
