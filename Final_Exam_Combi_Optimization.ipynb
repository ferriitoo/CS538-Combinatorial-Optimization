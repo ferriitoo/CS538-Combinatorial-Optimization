{
 "cells": [
  {
   "attachments": {},
   "cell_type": "markdown",
   "metadata": {},
   "source": [
    "**4.**  \n",
    "**(A) Suppose that all capacities in a flow network are equal to a constant $c$. Professor Fluider suggests using the simplest augmenting path algorithm that iteratively finds augmenting paths in residual networks. What is the complexity of the algorithm?**\n",
    "\n"
   ]
  },
  {
   "attachments": {},
   "cell_type": "markdown",
   "metadata": {},
   "source": [
    "When all capacities in a flow network are equal to a constant $c$, the maximum flow in the network is equal to the minimum cut capacity. The time complexity of the simplest augmenting path algorithm will be determined by the number of iterations it takes to find an augmenting path, multiplied by the time complexity of each iteration.\n",
    "\n",
    "The time complexity of each iteration is $O(V+E)$, where $V$ is the number of vertices and $E$ is the number of edges in the network. This is because each iteration involves a breadth-first search (BFS) or depth-first search (DFS) through the residual network.\n",
    "\n",
    "The number of iterations is $O(f^*/c)$, where $f^*$ is the maximum flow in the network. This is because each iteration increases the flow by at least $c$.\n",
    "\n",
    "Therefore, the overall time complexity of the algorithm is $O((V+E)f^*/c)$."
   ]
  },
  {
   "attachments": {},
   "cell_type": "markdown",
   "metadata": {},
   "source": [
    "**(B) Let's discover a way to improve the maximum flow algorithm that use blocking flows on layered networks.**\n",
    "\n",
    "**(i) Derive upper and lower bound on the value of the minimum cut, if it exists.**\n"
   ]
  },
  {
   "attachments": {},
   "cell_type": "markdown",
   "metadata": {},
   "source": [
    "In a flow network, the maximum flow is equal to the minimum cut capacity. The maximum flow can be found by the Ford-Fulkerson algorithm, and we can then determine the value of the minimum cut.\n",
    "\n",
    "Upper bound: Since all capacities are equal to $c$, the maximum capacity of a cut is when all edges in the cut have capacity $c$. If there are $E$ edges in the network, then the upper bound on the value of the minimum cut is $cE$.\n",
    "\n",
    "Lower bound: The minimum cut must have at least one edge, and since all capacities are equal to $c$, the minimum capacity of a cut is $c$. Therefore, the lower bound on the value of the minimum cut is $c$."
   ]
  },
  {
   "attachments": {},
   "cell_type": "markdown",
   "metadata": {},
   "source": [
    "\n",
    "**(ii) Suppose the flow left to be pushed is $f$. Show that the length of the layered network is at most $2 V / \\sqrt{(f / c)}$ by answering the questions in the following proof idea:**\n",
    "\n",
    "**(ii) a) There should be at least $f$ edges across every pair of adjacent layers in the blocking network. Why?**\n",
    "\n",
    "**(ii) a)**\n",
    "\n",
    "In a layered network, we divide the vertices into layers, and edges only connect vertices in adjacent layers. If there is a flow of $f$ left to be pushed, then there must be at least $f$ units of flow capacity going across every pair of adjacent layers in the blocking network. Otherwise, if there is less capacity between adjacent layers, we wouldn't be able to push the remaining flow $f$ through the network.\n",
    "\n",
    "**(ii) b) Let $V_{l}$ be the number of vertices in layer $l$. Thus $V_{l-1} V_{l} \\geq f / c$. Why?**\n",
    "\n",
    "\n",
    "**(ii) b)**\n",
    "\n",
    "Let $V_{l-1}$ be the number of vertices in layer $l-1$, and $V_l$ be the number of vertices in layer $l$. The total capacity between these two layers is the sum of capacities for all edges connecting vertices in these layers. Since all edge capacities are equal to $c$, the total capacity between layers $l-1$ and $l$ is $cV_{l-1}V_l$. \n",
    "\n",
    "Since there is at least $f$ units of flow capacity going across every pair of adjacent layers in the blocking network, it follows that $cV_{l-1}V_l \\geq f$. Dividing both sides by $c$, we get $V_{l-1}V_l \\geq f/c$.\n",
    "\n",
    "\n",
    "**(ii) c) Then at least one of $V_{l-1}$ or $V_{l}$ must be greater than or equal to $\\sqrt{f / c}$. Why?**\n",
    "\n",
    "\n",
    "**(ii) c)**\n",
    "\n",
    "From the inequality $V_{l-1}V_l \\geq f/c$, we can deduce that at least one of $V_{l-1}$ or $V_l$ must be greater than or equal to $\\sqrt{f/c}$. If both of them were smaller than $\\sqrt{f/c}$, then their product would be smaller than $f/c$, which contradicts the inequality.\n",
    "\n",
    "**(ii) d) Thus the length of the blocking network must be less than or equal $2 V / \\sqrt{f / c}$. Why?** \n",
    "\n",
    "**(ii) d)**\n",
    "\n",
    "We now know that at least one of $V_{l-1}$ or $V_l$ must be greater than or equal to $\\sqrt{f/c}$. Suppose there are $L$ layers in the network. Then, for each pair of adjacent layers, there must be at least one layer with at least $\\sqrt{f/c}$ vertices. Therefore, the total number of vertices in the network ($V$) must be at least $L\\sqrt{f/c}$.\n",
    "\n",
    "Rearranging this inequality, we get $L \\leq V / \\sqrt{f/c}$, which means that the length of the blocking network must be less than or equal to $2V / \\sqrt{f/c}$ (the factor of 2 is added to account for the possibility that the vertices are distributed evenly between adjacent layers).\n"
   ]
  },
  {
   "attachments": {},
   "cell_type": "markdown",
   "metadata": {},
   "source": [
    "\n",
    "**(iii) So use blocking flow algorithm for at most $S=2 V^{2 / 3}$ layered network steps. At this stage let $g$ be the units of flow pushed. If $f^{*}$ is the maximum flow then the length of the network is $\\leq 2 V / \\sqrt{\\left(f^{*}-g\\right) / c}$. Let $f^{*}-g=c V^{2 / 3}$. Then the length of the network is $\\leq 2 V^{2 / 3}$**\n",
    "\n",
    "**(iii) a) Why?**\n",
    "\n"
   ]
  },
  {
   "attachments": {},
   "cell_type": "markdown",
   "metadata": {},
   "source": [
    "**(iii) a)**\n",
    "\n",
    "To see why the length of the network is $\\leq 2 V^{2/3}$ when $f^{*}-g=cV^{2/3}$, let's plug this value into the inequality we derived in part (ii) d:\n",
    "\n",
    "Length of the network $\\leq 2V / \\sqrt{(f^{*}-g)/c}$\n",
    "\n",
    "Now substitute $f^{*}-g=cV^{2/3}$:\n",
    "\n",
    "Length of the network $\\leq 2V / \\sqrt{(cV^{2/3})/c}$\n",
    "\n",
    "Cancel out $c$:\n",
    "\n",
    "Length of the network $\\leq 2V / \\sqrt{V^{2/3}}$\n",
    "\n",
    "Since $\\sqrt{V^{2/3}} = V^{1/3}$, we have:\n",
    "\n",
    "Length of the network $\\leq 2V^{2/3}$\n",
    "\n",
    "This inequality shows that when the remaining flow to be pushed is equal to $cV^{2/3}$, the length of the layered network is less than or equal to $2V^{2/3}$."
   ]
  },
  {
   "attachments": {},
   "cell_type": "markdown",
   "metadata": {},
   "source": [
    "**After this use a straight forward push algorithm, pushing at all the flow in incremental pushes with at least one unit of flow in $O(E)$ steps.**\n",
    "\n",
    "**(iii) b) Analyze the complexity of the algorithm.**"
   ]
  },
  {
   "attachments": {},
   "cell_type": "markdown",
   "metadata": {},
   "source": [
    "**(iii) b)**\n",
    "\n",
    "The overall algorithm has two phases: first, it uses the blocking flow algorithm on the layered network for at most $S = 2V^{2/3}$ steps, and then it switches to a straightforward push algorithm to push the remaining flow.\n",
    "\n",
    "For the blocking flow algorithm phase, each iteration has a complexity of $O(V+E)$ to construct the layered network and find blocking flows. Since we perform at most $2V^{2/3}$ iterations, the complexity of this phase is $O(2V^{2/3}(V+E)) = O(V^{5/3}+V^{2/3}E)$.\n",
    "\n",
    "For the straightforward push algorithm phase, we push at least one unit of flow in each step, and we perform these steps in $O(E)$ time. Since the remaining flow to be pushed is at most $cV^{2/3}$, we perform at most $cV^{2/3}$ steps, each taking $O(E)$ time. The complexity of this phase is $O(cV^{2/3}E)$.\n",
    "\n",
    "Combining the complexities of both phases, the overall complexity of the algorithm is $O(V^{5/3}+V^{2/3}E + cV^{2/3}E)$. In practice, the constants $c$ and $2$ are not as important as the polynomial factors, so we can simplify this expression to $O(V^{5/3}+V^{2/3}E)$. Even though the accurate complexity would be $O(V^{5/3}+ (c + 1) V^{2/3}E)$, in which we could see that the most predominant algorithm in terms of time-complexity, would be the algorithm of the first phase, which time-complexity of $O(V^{5/3}+V^{2/3}E)$."
   ]
  },
  {
   "cell_type": "markdown",
   "metadata": {},
   "source": []
  },
  {
   "attachments": {},
   "cell_type": "markdown",
   "metadata": {},
   "source": [
    "5. For the LP\n",
    "\n",
    "$$\n",
    "\\begin{aligned}\n",
    "& \\text { Minimize } \\quad z(x)=c^{T} x \\\\\n",
    "& \\text { subject to } A x=b \\\\\n",
    "& x \\geq 0\n",
    "\\end{aligned}\n",
    "$$\n",
    "\n",
    "**where $A \\in R^{m \\times n}, x \\in R^{n}$, prove or disprove:**\n",
    "\n",
    "**(a) If $x_{1}$ and $x_{2}$ are two BFS's such that the total number of variables which are positive (in both together, i.e. in one or the other or in both) is at most $m+1$ then $x_{1}$ and $x_{2}$ must be adjacent on the polytope. $[10 \\mathrm{pts}]$**\n"
   ]
  },
  {
   "attachments": {},
   "cell_type": "markdown",
   "metadata": {},
   "source": [
    "The feasible region $x$ is comprised or formed by the intersection of $m$ half-spaces, and is known as a polyhedron when physically limited case by edges.  \n",
    "\n",
    "As it has been taught during lectures, a Basic Feasible Solution (BFS) has $m$ number of positive variables at most. First of all, in order to give context to the statement, we will define the concept of \"two adjacent BFS's\", which means that these to BFS's are in the same edge of the polytope. That is to say, that both vertex share the same edge, which communicates both in a straight and direct way. In order to find an adjacent BFS starting from the first one, we usually use the $SIMPLEX$ method, which is based on the fact of jumping from one BFS to another until finding the optimal one, which is forced to be one of the BFSs. In this method, we convert a non basic variable to positive (the entering variable), and a basic one into non basic (the ourgoing variable). That is to say, in order to perform successfully th method the entry of a new variable, and the removal of an old variable is needed. \n",
    "\n",
    "Hence, it can be concluded that two adjacent BFS's share $m - 1$ positive variables. Therefore, the total number of positive variables in both will be $m - 1$.  Let's add at most one more positive variable from $x1$ and from $x2$  \n",
    "\n",
    "Thus, the total number of variables will be $m - 1 + 2 = m + 1$. This way, we have already proved that two adjacent BFSs always have at most $m + 1$ positive variables taking into account the sum of variables both together. \n",
    "\n",
    "Finally the statement is $TRUE$\n",
    " "
   ]
  },
  {
   "attachments": {},
   "cell_type": "markdown",
   "metadata": {},
   "source": [
    "In other words, to prove this statement, we need to show that if $x_1$ and $x_2$ are two basic feasible solutions (BFS) such that the total number of positive variables in both together is at most $m+1$, then $x_1$ and $x_2$ must be adjacent on the polytope.\n",
    "\n",
    "Let's consider the number of positive variables in $x_1$ and $x_2$.\n",
    "\n",
    "- In $x_1$, there are $m$ positive variables (since it's a BFS, it has $m$ basic variables).\n",
    "- In $x_2$, there are $m$ positive variables (similarly, because it's a BFS).\n",
    "\n",
    "Now, since the total number of positive variables in both together is at most $m+1$, there is only one variable that changes its value from zero to positive (or vice versa) when transitioning from $x_1$ to $x_2$. All the other variables have the same values in both solutions, which means that they correspond to the same basic columns in the basis matrix.\n",
    "\n",
    "Since only one variable changes its value between the two BFSs, $x_1$ and $x_2$ differ by exactly one basic variable. In other words, the basis matrix for $x_1$ and the basis matrix for $x_2$ differ by only one column. This is the definition of adjacency for BFSs in a polytope.\n",
    "\n",
    "Therefore, we have proved that if $x_1$ and $x_2$ are two BFSs such that the total number of positive variables in both together is at most $m+1$, then $x_1$ and $x_2$ must be adjacent on the polytope."
   ]
  },
  {
   "attachments": {},
   "cell_type": "markdown",
   "metadata": {},
   "source": [
    "**(b) No feasible solution in which $m+2$ or more variables are positive can lie on an edge of the polyhedron.**\n",
    "\n",
    "**$[10 \\mathrm{pts}]$**\n",
    "\n"
   ]
  },
  {
   "attachments": {},
   "cell_type": "markdown",
   "metadata": {},
   "source": [
    "We will prove this statement by contradiction. Suppose there exists a feasible solution, $x^*$, in which $m+2$ or more variables are positive and it lies on an edge of the polyhedron.\n",
    "\n",
    "In a polyhedron defined by the linear program, the edges are formed by the intersections of $n-1$ hyperplanes, where $n$ is the number of variables. Thus, if $x^*$ lies on an edge, it must satisfy $n-1$ linearly independent constraints (hyperplanes) with equality.\n",
    "\n",
    "However, since $x^*$ has $m+2$ or more positive variables, it must satisfy at least $m+2$ constraints with equality. This is because, by definition, a feasible solution satisfies all constraints with equality or inequality, and a variable being positive means it is strictly greater than zero and not involved in an equality constraint.\n",
    "\n",
    "Since the polyhedron is formed by the equation $Ax = b$ and $x \\geq 0$, we know that the rank of matrix $A$ is at most $m$. Thus, there can be at most $m$ linearly independent constraints in the polyhedron. This means that satisfying $m+2$ constraints with equality is impossible, as it would require more than $m$ linearly independent constraints.\n",
    "\n",
    "This contradicts our initial assumption that there exists a feasible solution $x^*$ with $m+2$ or more positive variables lying on an edge of the polyhedron. Therefore, we have proved that no feasible solution in which $m+2$ or more variables are positive can lie on an edge of the polyhedron."
   ]
  },
  {
   "attachments": {},
   "cell_type": "markdown",
   "metadata": {},
   "source": [
    "Finally, let's think. In the event of being $m + 2$ or more positive variables, it would mean that the solutions would be in a space of dimension $2$. This would be referred to one facet of the polytope. Therefore, we can conclude that no feasible solution in which $m + 2$ or more variables are positive can lie on an edge of the polyhedron in matter.\n",
    "\n",
    "Therefore, this statement is $TRUE$"
   ]
  },
  {
   "attachments": {},
   "cell_type": "markdown",
   "metadata": {},
   "source": [
    "**6.**    \n",
    "**(a) Prove that every path from the source to the sink in a directed graph contains at least one arc going from $A$ to $V-A$ from a $s-t$ cut-set $(A, V-A)[10 \\mathrm{pts}]$**"
   ]
  },
  {
   "attachments": {},
   "cell_type": "markdown",
   "metadata": {},
   "source": [
    "We will prove this statement by contradiction. Suppose there exists a path from the source $s$ to the sink $t$ in a directed graph that does not contain any arc going from $A$ to $V-A$ from an $s-t$ cut-set $(A, V-A)$.\n",
    "\n",
    "By definition, an $s-t$ cut is a partition of the vertex set $V$ into two disjoint sets, $A$ and $V-A$, such that the source $s \\in A$ and the sink $t \\in V-A$. \n",
    "\n",
    "Consider a path $P$ from $s$ to $t$ in the graph. Since $s \\in A$ and $t \\in V-A$, the path $P$ must start in $A$ and end in $V-A$. \n",
    "\n",
    "Now, let's examine the vertices along the path $P$. As we follow the path from $s$ to $t$, we must, at some point, move from a vertex in $A$ to a vertex in $V-A$. This is because the path starts in $A$ (with the source $s$) and ends in $V-A$ (with the sink $t$), and there must be a transition between the two sets.\n",
    "\n",
    "When we make this transition from a vertex in $A$ to a vertex in $V-A$, we are traversing an arc that goes from $A$ to $V-A$. This contradicts our initial assumption that there exists a path from $s$ to $t$ that does not contain any arc going from $A$ to $V-A$.\n",
    "\n",
    "Therefore, we have proved that every path from the source to the sink in a directed graph contains at least one arc going from $A$ to $V-A$ from an $s-t$ cut-set $(A, V-A)$."
   ]
  },
  {
   "attachments": {},
   "cell_type": "markdown",
   "metadata": {},
   "source": [
    "**(b) Determine an algorithm to find if the given directed graph contain $k$ edge-disjoint paths from source to sink. $[10 \\mathrm{pts}]$**"
   ]
  },
  {
   "attachments": {},
   "cell_type": "markdown",
   "metadata": {},
   "source": [
    "To determine if the given directed graph contains $k$ edge-disjoint paths from the source to the sink, we can use a variation of the Ford-Fulkerson algorithm for finding maximum flow in a network. We will transform the problem into a maximum flow problem and then use the max-flow min-cut theorem. Here's the algorithm:\n",
    "\n",
    "1. Create a new graph `G'` from the given directed graph `G` by assigning a capacity of 1 to each edge in the graph.\n",
    "2. Set a counter `numPaths` to 0.\n",
    "3. While there exists an augmenting path from the source `s` to the sink `t` in the residual graph of `G'`:  \n",
    "   - a. Find an augmenting path `P`.  \n",
    "   - b. Augment the flow along the path `P`.  \n",
    "   - c. Increment the counter `numPaths` by 1.  \n",
    "   - d. If `numPaths` equals `k`, return `True`, since we have found `k` edge-disjoint paths.\n",
    "4. If the loop terminates and `numPaths` is still less than `k`, return `False`, since we could not find `k` edge-disjoint paths.\n",
    "\n",
    "The algorithm tries to find `k` augmenting paths (with capacity 1) in the graph `G'`. Each of these paths represents an edge-disjoint path in the original graph `G`. If we can find `k` such paths, then we can conclude that there are `k` edge-disjoint paths from source to sink in the original graph `G`.\n",
    "\n",
    "The time complexity of the algorithm is $O(kE)$, where $E$ is the number of edges in the graph. This is because we are finding `k` augmenting paths, and each path can be found in $O(E)$ time using a simple depth-first search or breadth-first search."
   ]
  },
  {
   "attachments": {},
   "cell_type": "markdown",
   "metadata": {},
   "source": [
    "### FURTHER EXPLANATIONS WITH EXAMPLES IN THE ATTACHED HAND-WRITTEN PDF "
   ]
  },
  {
   "cell_type": "markdown",
   "metadata": {},
   "source": []
  }
 ],
 "metadata": {
  "language_info": {
   "name": "python"
  },
  "orig_nbformat": 4
 },
 "nbformat": 4,
 "nbformat_minor": 2
}
